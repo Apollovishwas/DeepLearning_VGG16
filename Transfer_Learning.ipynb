{
 "cells": [
  {
   "cell_type": "code",
   "execution_count": 16,
   "id": "8d224b8a",
   "metadata": {},
   "outputs": [],
   "source": [
    "from pathlib import Path\n",
    "import numpy as np\n",
    "from keras.preprocessing import image\n",
    "from keras.applications import vgg16\n",
    "import joblib"
   ]
  },
  {
   "cell_type": "code",
   "execution_count": 7,
   "id": "80084068",
   "metadata": {},
   "outputs": [],
   "source": [
    "# Path to folders with training data\n",
    "dog_path = Path(\"training_data\") / \"dogs\"\n",
    "not_dog_path = Path(\"training_data\") / \"not_dogs\"\n",
    "\n",
    "images = []\n",
    "labels=[]"
   ]
  },
  {
   "cell_type": "code",
   "execution_count": 9,
   "id": "5500b0f5",
   "metadata": {},
   "outputs": [],
   "source": [
    "# Load all the not-dog images\n",
    "for img in not_dog_path.glob(\"*.png\"):\n",
    "    # Load the image from disk\n",
    "    img = image.load_img(img)\n",
    "\n",
    "    # Convert the image to a numpy array\n",
    "    image_array = image.img_to_array(img)\n",
    "\n",
    "    # Add the image to the list of images\n",
    "    images.append(image_array)\n",
    "\n",
    "    # For each 'not dog' image, the expected value should be 0\n",
    "    labels.append(0)\n",
    "\n",
    "# Load all the dog images\n",
    "for img in dog_path.glob(\"*.png\"):\n",
    "    # Load the image from disk\n",
    "    img = image.load_img(img)\n",
    "\n",
    "    # Convert the image to a numpy array\n",
    "    image_array = image.img_to_array(img)\n",
    "\n",
    "    # Add the image to the list of images\n",
    "    images.append(image_array)\n",
    "\n",
    "    # For each 'dog' image, the expected value should be 1\n",
    "    labels.append(1)"
   ]
  },
  {
   "cell_type": "code",
   "execution_count": 11,
   "id": "3f0e9460",
   "metadata": {},
   "outputs": [],
   "source": [
    "x_train=np.array(images)\n",
    "y_train=np.array(labels)"
   ]
  },
  {
   "cell_type": "code",
   "execution_count": 13,
   "id": "aea6b1e2",
   "metadata": {},
   "outputs": [],
   "source": [
    "x_train = vgg16.preprocess_input(x_train)"
   ]
  },
  {
   "cell_type": "code",
   "execution_count": 14,
   "id": "f4b261a4",
   "metadata": {},
   "outputs": [
    {
     "name": "stdout",
     "output_type": "stream",
     "text": [
      "Downloading data from https://storage.googleapis.com/tensorflow/keras-applications/vgg16/vgg16_weights_tf_dim_ordering_tf_kernels_notop.h5\n",
      "58892288/58889256 [==============================] - 1s 0us/step\n"
     ]
    }
   ],
   "source": [
    "pretrained_nn = vgg16.VGG16(weights='imagenet', include_top=False, input_shape=(64,64,3))\n",
    "features_x = pretrained_nn.predict(x_train)\n"
   ]
  },
  {
   "cell_type": "code",
   "execution_count": 17,
   "id": "0ef8a5fe",
   "metadata": {},
   "outputs": [
    {
     "data": {
      "text/plain": [
       "['y_train.dat']"
      ]
     },
     "execution_count": 17,
     "metadata": {},
     "output_type": "execute_result"
    }
   ],
   "source": [
    "joblib.dump(features_x, 'x_train.dat')\n",
    "joblib.dump(y_train, 'y_train.dat')"
   ]
  },
  {
   "cell_type": "code",
   "execution_count": null,
   "id": "631f7551",
   "metadata": {},
   "outputs": [],
   "source": []
  }
 ],
 "metadata": {
  "kernelspec": {
   "display_name": "Python 3 (ipykernel)",
   "language": "python",
   "name": "python3"
  },
  "language_info": {
   "codemirror_mode": {
    "name": "ipython",
    "version": 3
   },
   "file_extension": ".py",
   "mimetype": "text/x-python",
   "name": "python",
   "nbconvert_exporter": "python",
   "pygments_lexer": "ipython3",
   "version": "3.7.13"
  }
 },
 "nbformat": 4,
 "nbformat_minor": 5
}
