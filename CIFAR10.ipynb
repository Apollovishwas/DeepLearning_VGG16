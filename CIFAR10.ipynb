{
 "cells": [
  {
   "cell_type": "code",
   "execution_count": 22,
   "id": "eb899960",
   "metadata": {},
   "outputs": [],
   "source": [
    "import keras\n",
    "from keras.datasets import cifar10\n",
    "from keras.models import Sequential \n",
    "from keras.layers import Dense, Dropout, Flatten, Conv2D, MaxPooling2D\n",
    "from pathlib import Path\n"
   ]
  },
  {
   "cell_type": "code",
   "execution_count": 6,
   "id": "764b4c74",
   "metadata": {},
   "outputs": [],
   "source": [
    "(x_train, y_train), (x_test, y_test) = cifar10.load_data()\n",
    "x_train= x_train.astype('float32')\n",
    "x_test= x_test.astype('float32')\n",
    "\n",
    "x_train = x_train/255\n",
    "x_test = x_test/255\n",
    "\n",
    "y_train = keras.utils.to_categorical(y_train,10)\n",
    "y_test = keras.utils.to_categorical(y_test,10)"
   ]
  },
  {
   "cell_type": "code",
   "execution_count": 14,
   "id": "ec330d44",
   "metadata": {},
   "outputs": [],
   "source": [
    "model = Sequential()\n",
    "#convolution block1\n",
    "model.add(Conv2D(32, (3,3), padding=\"same\", activation='relu', input_shape=(32,32,3)))\n",
    "model.add(Conv2D(32, (3,3), activation='relu'))\n",
    "model.add(MaxPooling2D(pool_size=(2,2)))\n",
    "model.add(Dropout(0.25))\n",
    "#convolution block2\n",
    "\n",
    "model.add(Conv2D(64, (3,3),padding=\"same\", activation='relu'))\n",
    "model.add(Conv2D(64, (3,3), activation='relu'))\n",
    "model.add(MaxPooling2D(pool_size=(2,2)))\n",
    "model.add(Dropout(0.25))\n",
    "\n",
    "#flatten after the conv block \n",
    "model.add(Flatten())\n",
    "model.add(Dense(512, activation=\"relu\"))\n",
    "model.add(Dropout(0.5))\n",
    "model.add(Dense(10, activation='softmax'))"
   ]
  },
  {
   "cell_type": "code",
   "execution_count": 16,
   "id": "324d0328",
   "metadata": {},
   "outputs": [],
   "source": [
    "model.compile(loss='categorical_crossentropy', optimizer='adam', metrics=['accuracy'])"
   ]
  },
  {
   "cell_type": "code",
   "execution_count": 19,
   "id": "344f5153",
   "metadata": {},
   "outputs": [
    {
     "name": "stdout",
     "output_type": "stream",
     "text": [
      "Epoch 1/30\n",
      "1563/1563 [==============================] - 88s 56ms/step - loss: 1.1001 - accuracy: 0.6108 - val_loss: 0.9318 - val_accuracy: 0.6699\n",
      "Epoch 2/30\n",
      "1563/1563 [==============================] - 89s 57ms/step - loss: 0.9339 - accuracy: 0.6700 - val_loss: 0.7962 - val_accuracy: 0.7274\n",
      "Epoch 3/30\n",
      "1563/1563 [==============================] - 87s 56ms/step - loss: 0.8435 - accuracy: 0.7064 - val_loss: 0.7707 - val_accuracy: 0.7339\n",
      "Epoch 4/30\n",
      "1563/1563 [==============================] - 88s 56ms/step - loss: 0.7806 - accuracy: 0.7278 - val_loss: 0.7086 - val_accuracy: 0.7562\n",
      "Epoch 5/30\n",
      "1563/1563 [==============================] - 88s 56ms/step - loss: 0.7340 - accuracy: 0.7404 - val_loss: 0.6704 - val_accuracy: 0.7673\n",
      "Epoch 6/30\n",
      "1563/1563 [==============================] - 88s 56ms/step - loss: 0.6974 - accuracy: 0.7561 - val_loss: 0.7039 - val_accuracy: 0.7566\n",
      "Epoch 7/30\n",
      "1563/1563 [==============================] - 88s 56ms/step - loss: 0.6658 - accuracy: 0.7670 - val_loss: 0.6732 - val_accuracy: 0.7692\n",
      "Epoch 8/30\n",
      "1563/1563 [==============================] - 88s 56ms/step - loss: 0.6360 - accuracy: 0.7778 - val_loss: 0.6349 - val_accuracy: 0.7818\n",
      "Epoch 9/30\n",
      "1563/1563 [==============================] - 87s 56ms/step - loss: 0.6099 - accuracy: 0.7856 - val_loss: 0.6399 - val_accuracy: 0.7830\n",
      "Epoch 10/30\n",
      "1563/1563 [==============================] - 87s 56ms/step - loss: 0.5846 - accuracy: 0.7939 - val_loss: 0.6425 - val_accuracy: 0.7780\n",
      "Epoch 11/30\n",
      "1563/1563 [==============================] - 87s 56ms/step - loss: 0.5688 - accuracy: 0.8000 - val_loss: 0.6529 - val_accuracy: 0.7828\n",
      "Epoch 12/30\n",
      "1563/1563 [==============================] - 88s 56ms/step - loss: 0.5539 - accuracy: 0.8069 - val_loss: 0.6423 - val_accuracy: 0.7894\n",
      "Epoch 13/30\n",
      "1563/1563 [==============================] - 84s 54ms/step - loss: 0.5451 - accuracy: 0.8082 - val_loss: 0.6594 - val_accuracy: 0.7801\n",
      "Epoch 14/30\n",
      "1563/1563 [==============================] - 82s 52ms/step - loss: 0.5337 - accuracy: 0.8132 - val_loss: 0.6614 - val_accuracy: 0.7820\n",
      "Epoch 15/30\n",
      "1563/1563 [==============================] - 81s 52ms/step - loss: 0.5198 - accuracy: 0.8190 - val_loss: 0.6710 - val_accuracy: 0.7760\n",
      "Epoch 16/30\n",
      "1563/1563 [==============================] - 82s 52ms/step - loss: 0.5127 - accuracy: 0.8208 - val_loss: 0.6122 - val_accuracy: 0.7929\n",
      "Epoch 17/30\n",
      "1563/1563 [==============================] - 83s 53ms/step - loss: 0.5044 - accuracy: 0.8228 - val_loss: 0.6299 - val_accuracy: 0.7889\n",
      "Epoch 18/30\n",
      "1563/1563 [==============================] - 83s 53ms/step - loss: 0.4931 - accuracy: 0.8265 - val_loss: 0.6377 - val_accuracy: 0.7880\n",
      "Epoch 19/30\n",
      "1563/1563 [==============================] - 82s 52ms/step - loss: 0.4765 - accuracy: 0.8339 - val_loss: 0.6180 - val_accuracy: 0.7923\n",
      "Epoch 20/30\n",
      "1563/1563 [==============================] - 89s 57ms/step - loss: 0.4678 - accuracy: 0.8337 - val_loss: 0.6512 - val_accuracy: 0.7887\n",
      "Epoch 21/30\n",
      "1563/1563 [==============================] - 88s 56ms/step - loss: 0.4745 - accuracy: 0.8335 - val_loss: 0.6330 - val_accuracy: 0.7947\n",
      "Epoch 22/30\n",
      "1563/1563 [==============================] - 88s 56ms/step - loss: 0.4575 - accuracy: 0.8399 - val_loss: 0.6509 - val_accuracy: 0.7874\n",
      "Epoch 23/30\n",
      "1563/1563 [==============================] - 87s 56ms/step - loss: 0.4580 - accuracy: 0.8386 - val_loss: 0.6555 - val_accuracy: 0.7863\n",
      "Epoch 24/30\n",
      "1563/1563 [==============================] - 87s 55ms/step - loss: 0.4455 - accuracy: 0.8421 - val_loss: 0.6551 - val_accuracy: 0.7963\n",
      "Epoch 25/30\n",
      "1563/1563 [==============================] - 88s 56ms/step - loss: 0.4367 - accuracy: 0.8487 - val_loss: 0.6389 - val_accuracy: 0.8012\n",
      "Epoch 26/30\n",
      "1563/1563 [==============================] - 87s 56ms/step - loss: 0.4347 - accuracy: 0.8485 - val_loss: 0.6468 - val_accuracy: 0.7979\n",
      "Epoch 27/30\n",
      "1563/1563 [==============================] - 86s 55ms/step - loss: 0.4318 - accuracy: 0.8495 - val_loss: 0.6488 - val_accuracy: 0.7973\n",
      "Epoch 28/30\n",
      "1563/1563 [==============================] - 88s 56ms/step - loss: 0.4222 - accuracy: 0.8521 - val_loss: 0.6421 - val_accuracy: 0.7917\n",
      "Epoch 29/30\n",
      "1563/1563 [==============================] - 89s 57ms/step - loss: 0.4212 - accuracy: 0.8536 - val_loss: 0.6474 - val_accuracy: 0.7956\n",
      "Epoch 30/30\n",
      "1563/1563 [==============================] - 87s 56ms/step - loss: 0.4170 - accuracy: 0.8527 - val_loss: 0.6546 - val_accuracy: 0.7930\n"
     ]
    },
    {
     "data": {
      "text/plain": [
       "<tensorflow.python.keras.callbacks.History at 0x1d709f9c048>"
      ]
     },
     "execution_count": 19,
     "metadata": {},
     "output_type": "execute_result"
    }
   ],
   "source": [
    "model.fit(x_train,y_train, batch_size=32, epochs=30, validation_data=(x_test, y_test), shuffle=True)"
   ]
  },
  {
   "cell_type": "code",
   "execution_count": 23,
   "id": "ac6ca0e0",
   "metadata": {},
   "outputs": [
    {
     "data": {
      "text/plain": [
       "4393"
      ]
     },
     "execution_count": 23,
     "metadata": {},
     "output_type": "execute_result"
    }
   ],
   "source": [
    "#save neurlNetstructure\n",
    "model_structure = model.to_json()\n",
    "f = Path(\"model_structure.json\")\n",
    "f.write_text(model_structure)"
   ]
  },
  {
   "cell_type": "code",
   "execution_count": 25,
   "id": "d6b65fcc",
   "metadata": {},
   "outputs": [],
   "source": [
    "model.save_weights('model_weights.h5')"
   ]
  },
  {
   "cell_type": "code",
   "execution_count": 26,
   "id": "95c8347a",
   "metadata": {},
   "outputs": [],
   "source": [
    "from keras.models import model_from_json\n",
    "from pathlib import Path\n",
    "from keras.preprocessing import image\n",
    "import numpy as np\n",
    "\n",
    "# These are the CIFAR10 class labels from the training data (in order from 0 to 9)\n",
    "class_labels = [\n",
    "    \"Plane\",\n",
    "    \"Car\",\n",
    "    \"Bird\",\n",
    "    \"Cat\",\n",
    "    \"Deer\",\n",
    "    \"Dog\",\n",
    "    \"Frog\",\n",
    "    \"Horse\",\n",
    "    \"Boat\",\n",
    "    \"Truck\"\n",
    "]"
   ]
  },
  {
   "cell_type": "code",
   "execution_count": 30,
   "id": "e36ec5d7",
   "metadata": {},
   "outputs": [],
   "source": [
    "#loading model \n",
    "f = Path(\"model_structure.json\")\n",
    "model_structure = f.read_text()\n",
    "#recreate keras model from json \n",
    "model = model_from_json(model_structure)\n",
    "\n",
    "#load weights\n",
    "model.load_weights('model_weights.h5')\n",
    "\n",
    "\n",
    "#loading test image file \n",
    "img = image.load_img('dog.png', target_size=(32,32))\n",
    "img_to_test = image.img_to_array(img)/255\n",
    "#scaling the value \n",
    "\n",
    "\n",
    "\n",
    "#add a 4th dimension, as keras expects list of images\n",
    "list_of_images = np.expand_dims(img_to_test, axis=0)\n",
    "#prediction \n",
    "\n",
    "results = model.predict(list_of_images)\n",
    "single_result = results[0]\n",
    "\n",
    "\n",
    "#graabing the result, since it is softmax\n",
    "\n",
    "most_likely_class_index = int(np.argmax(single_result))\n",
    "most_likely_class = single_result[most_likely_class_index]\n",
    "\n",
    "#finding the classname with the predefined array \n",
    "\n",
    "class_label = class_labels[most_likely_class_index ]\n"
   ]
  },
  {
   "cell_type": "code",
   "execution_count": 31,
   "id": "b1ec0d5b",
   "metadata": {},
   "outputs": [
    {
     "data": {
      "text/plain": [
       "'Dog'"
      ]
     },
     "execution_count": 31,
     "metadata": {},
     "output_type": "execute_result"
    }
   ],
   "source": [
    "class_label"
   ]
  },
  {
   "cell_type": "code",
   "execution_count": null,
   "id": "3830eea7",
   "metadata": {},
   "outputs": [],
   "source": []
  }
 ],
 "metadata": {
  "kernelspec": {
   "display_name": "Python 3 (ipykernel)",
   "language": "python",
   "name": "python3"
  },
  "language_info": {
   "codemirror_mode": {
    "name": "ipython",
    "version": 3
   },
   "file_extension": ".py",
   "mimetype": "text/x-python",
   "name": "python",
   "nbconvert_exporter": "python",
   "pygments_lexer": "ipython3",
   "version": "3.7.13"
  }
 },
 "nbformat": 4,
 "nbformat_minor": 5
}
