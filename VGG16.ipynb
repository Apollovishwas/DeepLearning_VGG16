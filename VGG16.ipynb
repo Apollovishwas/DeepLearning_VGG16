{
 "cells": [
  {
   "cell_type": "code",
   "execution_count": 1,
   "id": "842a80b7",
   "metadata": {},
   "outputs": [],
   "source": [
    "import numpy as np \n",
    "import keras\n",
    "from keras.preprocessing import image\n",
    "from keras.applications import vgg16\n"
   ]
  },
  {
   "cell_type": "code",
   "execution_count": 2,
   "id": "c383ee93",
   "metadata": {},
   "outputs": [
    {
     "name": "stdout",
     "output_type": "stream",
     "text": [
      "Downloading data from https://storage.googleapis.com/tensorflow/keras-applications/vgg16/vgg16_weights_tf_dim_ordering_tf_kernels.h5\n",
      "553467904/553467096 [==============================] - 8s 0us/step\n"
     ]
    }
   ],
   "source": [
    "model = vgg16.VGG16()"
   ]
  },
  {
   "cell_type": "code",
   "execution_count": 6,
   "id": "98cc0681",
   "metadata": {},
   "outputs": [],
   "source": [
    "img = image.load_img('bay.jpg', target_size=(224,224))\n",
    "x = image.img_to_array(img)\n",
    "x = np.expand_dims(x, axis=0)\n"
   ]
  },
  {
   "cell_type": "code",
   "execution_count": 7,
   "id": "afe56df3",
   "metadata": {},
   "outputs": [],
   "source": [
    "x=vgg16.preprocess_input(x)"
   ]
  },
  {
   "cell_type": "code",
   "execution_count": 8,
   "id": "5d82080b",
   "metadata": {},
   "outputs": [],
   "source": [
    "predictions = model.predict(x)"
   ]
  },
  {
   "cell_type": "code",
   "execution_count": 9,
   "id": "3c856261",
   "metadata": {},
   "outputs": [],
   "source": [
    "predicted_classes=vgg16.decode_predictions(predictions, top=5)"
   ]
  },
  {
   "cell_type": "code",
   "execution_count": 10,
   "id": "f7213498",
   "metadata": {},
   "outputs": [
    {
     "data": {
      "text/plain": [
       "[[('n09428293', 'seashore', 0.39521274),\n",
       "  ('n09399592', 'promontory', 0.32612875),\n",
       "  ('n09332890', 'lakeside', 0.119612984),\n",
       "  ('n02894605', 'breakwater', 0.06280127),\n",
       "  ('n09421951', 'sandbar', 0.045267284)]]"
      ]
     },
     "execution_count": 10,
     "metadata": {},
     "output_type": "execute_result"
    }
   ],
   "source": [
    "predicted_classes"
   ]
  },
  {
   "cell_type": "code",
   "execution_count": null,
   "id": "1893059c",
   "metadata": {},
   "outputs": [],
   "source": []
  }
 ],
 "metadata": {
  "kernelspec": {
   "display_name": "Python 3 (ipykernel)",
   "language": "python",
   "name": "python3"
  },
  "language_info": {
   "codemirror_mode": {
    "name": "ipython",
    "version": 3
   },
   "file_extension": ".py",
   "mimetype": "text/x-python",
   "name": "python",
   "nbconvert_exporter": "python",
   "pygments_lexer": "ipython3",
   "version": "3.7.13"
  }
 },
 "nbformat": 4,
 "nbformat_minor": 5
}
